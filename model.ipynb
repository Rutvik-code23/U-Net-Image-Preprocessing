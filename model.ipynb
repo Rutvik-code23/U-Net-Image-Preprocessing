{
 "cells": [
  {
   "cell_type": "code",
   "execution_count": 2,
   "metadata": {
    "execution": {
     "iopub.execute_input": "2025-07-21T18:04:09.356216Z",
     "iopub.status.busy": "2025-07-21T18:04:09.355443Z",
     "iopub.status.idle": "2025-07-21T18:04:09.594441Z",
     "shell.execute_reply": "2025-07-21T18:04:09.593673Z",
     "shell.execute_reply.started": "2025-07-21T18:04:09.356177Z"
    },
    "trusted": true
   },
   "outputs": [],
   "source": [
    "import os\n",
    "import cv2\n",
    "import numpy as np\n",
    "from tqdm import tqdm\n",
    "import matplotlib.pyplot as plt\n",
    "\n",
    "def load_images_and_generate_masks(base_dir, img_size=(64, 64)):\n",
    "    images = []\n",
    "    masks = []\n",
    "\n",
    "    # Loop through Cancerous and Non Cancerous folders\n",
    "    for category in [\"Cancerous\", \"Non Cancerous\"]:\n",
    "        category_path = os.path.join(base_dir, category)\n",
    "\n",
    "        # Loop through subfolders\n",
    "        for sub_class in os.listdir(category_path):\n",
    "            sub_class_path = os.path.join(category_path, sub_class)\n",
    "            for filename in os.listdir(sub_class_path):\n",
    "                img_path = os.path.join(sub_class_path, filename)\n",
    "                \n",
    "                # Read image in grayscale\n",
    "                img = cv2.imread(img_path, cv2.IMREAD_GRAYSCALE)\n",
    "                if img is None:\n",
    "                    continue\n",
    "                \n",
    "                # Resize image\n",
    "                img = cv2.resize(img, img_size)\n",
    "                norm_img = img / 255.0  # Normalize\n",
    "\n",
    "                # Generate pseudo-mask using Otsu threshold\n",
    "                _, mask = cv2.threshold(img, 0, 255, cv2.THRESH_BINARY + cv2.THRESH_OTSU)\n",
    "                mask = mask / 255.0  # Normalize mask\n",
    "                mask = np.expand_dims(mask, axis=-1)\n",
    "\n",
    "                images.append(norm_img)\n",
    "                masks.append(mask)\n",
    "\n",
    "    images = np.array(images).reshape(-1, img_size[0], img_size[1], 1)\n",
    "    masks = np.array(masks)\n",
    "\n",
    "    return images, masks"
   ]
  },
  {
   "cell_type": "code",
   "execution_count": 3,
   "metadata": {
    "execution": {
     "iopub.execute_input": "2025-07-21T18:04:13.098664Z",
     "iopub.status.busy": "2025-07-21T18:04:13.098361Z",
     "iopub.status.idle": "2025-07-21T18:10:34.042042Z",
     "shell.execute_reply": "2025-07-21T18:10:34.041381Z",
     "shell.execute_reply.started": "2025-07-21T18:04:13.098640Z"
    },
    "trusted": true
   },
   "outputs": [],
   "source": [
    "train_dir = \"/kaggle/input/skin-cancer-images/Train/Train\"\n",
    "val_dir = \"/kaggle/input/skin-cancer-images/Val/Val\"\n",
    "\n",
    "x_train, y_train = load_images_and_generate_masks(train_dir)\n",
    "x_val, y_val = load_images_and_generate_masks(val_dir)"
   ]
  },
  {
   "cell_type": "code",
   "execution_count": 4,
   "metadata": {
    "execution": {
     "iopub.execute_input": "2025-07-21T18:10:34.043951Z",
     "iopub.status.busy": "2025-07-21T18:10:34.043705Z",
     "iopub.status.idle": "2025-07-21T18:10:34.048396Z",
     "shell.execute_reply": "2025-07-21T18:10:34.047565Z",
     "shell.execute_reply.started": "2025-07-21T18:10:34.043923Z"
    },
    "trusted": true
   },
   "outputs": [
    {
     "name": "stdout",
     "output_type": "stream",
     "text": [
      "Train Images: (32966, 64, 64, 1)\n",
      "Train Masks: (32966, 64, 64, 1)\n",
      "Val Images: (14132, 64, 64, 1)\n",
      "Val Masks: (14132, 64, 64, 1)\n"
     ]
    }
   ],
   "source": [
    "print(\"Train Images:\", x_train.shape)\n",
    "print(\"Train Masks:\", y_train.shape)\n",
    "print(\"Val Images:\", x_val.shape)\n",
    "print(\"Val Masks:\", y_val.shape)"
   ]
  },
  {
   "cell_type": "code",
   "execution_count": null,
   "metadata": {
    "execution": {
     "iopub.execute_input": "2025-07-21T18:10:34.049275Z",
     "iopub.status.busy": "2025-07-21T18:10:34.049056Z",
     "iopub.status.idle": "2025-07-21T18:10:47.073656Z",
     "shell.execute_reply": "2025-07-21T18:10:47.073086Z",
     "shell.execute_reply.started": "2025-07-21T18:10:34.049256Z"
    },
    "trusted": true
   },
   "outputs": [
    {
     "name": "stderr",
     "output_type": "stream",
     "text": [
      "2025-07-21 18:10:35.598481: E external/local_xla/xla/stream_executor/cuda/cuda_fft.cc:477] Unable to register cuFFT factory: Attempting to register factory for plugin cuFFT when one has already been registered\n",
      "WARNING: All log messages before absl::InitializeLog() is called are written to STDERR\n",
      "E0000 00:00:1753121435.799403      36 cuda_dnn.cc:8310] Unable to register cuDNN factory: Attempting to register factory for plugin cuDNN when one has already been registered\n",
      "E0000 00:00:1753121435.855981      36 cuda_blas.cc:1418] Unable to register cuBLAS factory: Attempting to register factory for plugin cuBLAS when one has already been registered\n"
     ]
    }
   ],
   "source": [
    "from tensorflow.keras import layers, models\n",
    "\n",
    "def unet_model(input_shape=(64, 64, 1)):\n",
    "    inputs = layers.Input(input_shape)\n",
    "\n",
    "    # Encoder\n",
    "    c1 = layers.Conv2D(32, (3, 3), activation='relu', padding='same')(inputs)\n",
    "    c1 = layers.Conv2D(32, (3, 3), activation='relu', padding='same')(c1)\n",
    "    p1 = layers.MaxPooling2D((2, 2))(c1)\n",
    "\n",
    "    c2 = layers.Conv2D(64, (3, 3), activation='relu', padding='same')(p1)\n",
    "    c2 = layers.Conv2D(64, (3, 3), activation='relu', padding='same')(c2)\n",
    "    p2 = layers.MaxPooling2D((2, 2))(c2)\n",
    "\n",
    "    # Bottleneck\n",
    "    b = layers.Conv2D(128, (3, 3), activation='relu', padding='same')(p2)\n",
    "    b = layers.Conv2D(128, (3, 3), activation='relu', padding='same')(b)\n",
    "\n",
    "    # Decoder\n",
    "    u1 = layers.UpSampling2D((2, 2))(b)\n",
    "    u1 = layers.Dropout(0.3)(u1)\n",
    "    u1 = layers.Concatenate()([u1, c2])\n",
    "    c3 = layers.Conv2D(64, (3, 3), activation='relu', padding='same')(u1)\n",
    "    c3 = layers.Conv2D(64, (3, 3), activation='relu', padding='same')(c3)\n",
    "\n",
    "    u2 = layers.UpSampling2D((2, 2))(c3)\n",
    "    u2 = layers.Dropout(0.3)(u2)\n",
    "    u2 = layers.Concatenate()([u2, c1])\n",
    "    c4 = layers.Conv2D(32, (3, 3), activation='relu', padding='same')(u2)\n",
    "    c4 = layers.Conv2D(32, (3, 3), activation='relu', padding='same')(c4)\n",
    "\n",
    "    outputs = layers.Conv2D(1, (1, 1), activation='sigmoid')(c4)\n",
    "\n",
    "    return models.Model(inputs, outputs)"
   ]
  },
  {
   "cell_type": "code",
   "execution_count": 6,
   "metadata": {
    "execution": {
     "iopub.execute_input": "2025-07-21T18:10:47.075475Z",
     "iopub.status.busy": "2025-07-21T18:10:47.075037Z",
     "iopub.status.idle": "2025-07-21T18:10:49.357273Z",
     "shell.execute_reply": "2025-07-21T18:10:49.356495Z",
     "shell.execute_reply.started": "2025-07-21T18:10:47.075456Z"
    },
    "trusted": true
   },
   "outputs": [
    {
     "name": "stderr",
     "output_type": "stream",
     "text": [
      "I0000 00:00:1753121448.091383      36 gpu_device.cc:2022] Created device /job:localhost/replica:0/task:0/device:GPU:0 with 13942 MB memory:  -> device: 0, name: Tesla T4, pci bus id: 0000:00:04.0, compute capability: 7.5\n",
      "I0000 00:00:1753121448.092025      36 gpu_device.cc:2022] Created device /job:localhost/replica:0/task:0/device:GPU:1 with 13942 MB memory:  -> device: 1, name: Tesla T4, pci bus id: 0000:00:05.0, compute capability: 7.5\n"
     ]
    }
   ],
   "source": [
    "model = unet_model()\n",
    "model.compile(optimizer='adam', loss='binary_crossentropy', metrics=['accuracy'])"
   ]
  },
  {
   "cell_type": "code",
   "execution_count": 7,
   "metadata": {
    "execution": {
     "iopub.execute_input": "2025-07-21T18:10:49.358229Z",
     "iopub.status.busy": "2025-07-21T18:10:49.358044Z",
     "iopub.status.idle": "2025-07-21T18:14:01.583595Z",
     "shell.execute_reply": "2025-07-21T18:14:01.582862Z",
     "shell.execute_reply.started": "2025-07-21T18:10:49.358214Z"
    },
    "trusted": true
   },
   "outputs": [
    {
     "name": "stdout",
     "output_type": "stream",
     "text": [
      "Epoch 1/5\n"
     ]
    },
    {
     "name": "stderr",
     "output_type": "stream",
     "text": [
      "WARNING: All log messages before absl::InitializeLog() is called are written to STDERR\n",
      "I0000 00:00:1753121457.298350     105 service.cc:148] XLA service 0x7e9d64006a60 initialized for platform CUDA (this does not guarantee that XLA will be used). Devices:\n",
      "I0000 00:00:1753121457.299030     105 service.cc:156]   StreamExecutor device (0): Tesla T4, Compute Capability 7.5\n",
      "I0000 00:00:1753121457.299051     105 service.cc:156]   StreamExecutor device (1): Tesla T4, Compute Capability 7.5\n",
      "I0000 00:00:1753121457.883172     105 cuda_dnn.cc:529] Loaded cuDNN version 90300\n"
     ]
    },
    {
     "name": "stdout",
     "output_type": "stream",
     "text": [
      "\u001b[1m   3/1031\u001b[0m \u001b[37m━━━━━━━━━━━━━━━━━━━━\u001b[0m \u001b[1m46s\u001b[0m 46ms/step - accuracy: 0.7230 - loss: 0.6576   "
     ]
    },
    {
     "name": "stderr",
     "output_type": "stream",
     "text": [
      "I0000 00:00:1753121463.998798     105 device_compiler.h:188] Compiled cluster using XLA!  This line is logged at most once for the lifetime of the process.\n"
     ]
    },
    {
     "name": "stdout",
     "output_type": "stream",
     "text": [
      "\u001b[1m1031/1031\u001b[0m \u001b[32m━━━━━━━━━━━━━━━━━━━━\u001b[0m\u001b[37m\u001b[0m \u001b[1m52s\u001b[0m 39ms/step - accuracy: 0.8747 - loss: 0.2896 - val_accuracy: 0.9320 - val_loss: 0.1605\n",
      "Epoch 2/5\n",
      "\u001b[1m1031/1031\u001b[0m \u001b[32m━━━━━━━━━━━━━━━━━━━━\u001b[0m\u001b[37m\u001b[0m \u001b[1m33s\u001b[0m 32ms/step - accuracy: 0.9372 - loss: 0.1506 - val_accuracy: 0.9466 - val_loss: 0.1289\n",
      "Epoch 3/5\n",
      "\u001b[1m1031/1031\u001b[0m \u001b[32m━━━━━━━━━━━━━━━━━━━━\u001b[0m\u001b[37m\u001b[0m \u001b[1m35s\u001b[0m 34ms/step - accuracy: 0.9443 - loss: 0.1331 - val_accuracy: 0.9485 - val_loss: 0.1231\n",
      "Epoch 4/5\n",
      "\u001b[1m1031/1031\u001b[0m \u001b[32m━━━━━━━━━━━━━━━━━━━━\u001b[0m\u001b[37m\u001b[0m \u001b[1m35s\u001b[0m 34ms/step - accuracy: 0.9474 - loss: 0.1256 - val_accuracy: 0.9507 - val_loss: 0.1179\n",
      "Epoch 5/5\n",
      "\u001b[1m1031/1031\u001b[0m \u001b[32m━━━━━━━━━━━━━━━━━━━━\u001b[0m\u001b[37m\u001b[0m \u001b[1m35s\u001b[0m 33ms/step - accuracy: 0.9489 - loss: 0.1219 - val_accuracy: 0.9424 - val_loss: 0.1326\n"
     ]
    }
   ],
   "source": [
    "history = model.fit(\n",
    "    x_train, y_train,\n",
    "    validation_data=(x_val, y_val),\n",
    "    epochs=5,\n",
    "    batch_size=32\n",
    ")"
   ]
  },
  {
   "cell_type": "code",
   "execution_count": 10,
   "metadata": {
    "execution": {
     "iopub.execute_input": "2025-07-21T18:15:44.742938Z",
     "iopub.status.busy": "2025-07-21T18:15:44.742386Z",
     "iopub.status.idle": "2025-07-21T18:15:46.521665Z",
     "shell.execute_reply": "2025-07-21T18:15:46.521010Z",
     "shell.execute_reply.started": "2025-07-21T18:15:44.742914Z"
    },
    "trusted": true
   },
   "outputs": [
    {
     "name": "stdout",
     "output_type": "stream",
     "text": [
      "\u001b[1m1/1\u001b[0m \u001b[32m━━━━━━━━━━━━━━━━━━━━\u001b[0m\u001b[37m\u001b[0m \u001b[1m1s\u001b[0m 1s/step\n"
     ]
    },
    {
     "data": {
      "image/png": "[encoded data removed]",
      "text/plain": [
       "<Figure size 1200x400 with 3 Axes>"
      ]
     },
     "metadata": {},
     "output_type": "display_data"
    }
   ],
   "source": [
    "import matplotlib.pyplot as plt\n",
    "\n",
    "def visualize_sample(img, mask, pred):\n",
    "    fig, axs = plt.subplots(1, 3, figsize=(12, 4))\n",
    "    axs[0].imshow(img.squeeze(), cmap='gray')\n",
    "    axs[0].set_title('Input Image')\n",
    "\n",
    "    axs[1].imshow(mask.squeeze(), cmap='gray')\n",
    "    axs[1].set_title('Pseudo Ground Truth')\n",
    "\n",
    "    axs[2].imshow(pred.squeeze(), cmap='gray')\n",
    "    axs[2].set_title('Predicted Mask')\n",
    "\n",
    "    for ax in axs:\n",
    "        ax.axis('off')\n",
    "\n",
    "sample = x_val[0:1]\n",
    "pred = model.predict(sample)\n",
    "\n",
    "visualize_sample(sample[0], x_val[0], pred[0])"
   ]
  },
  {
   "cell_type": "code",
   "execution_count": 24,
   "metadata": {
    "execution": {
     "iopub.execute_input": "2025-07-21T18:45:17.424561Z",
     "iopub.status.busy": "2025-07-21T18:45:17.424209Z",
     "iopub.status.idle": "2025-07-21T18:45:17.513969Z",
     "shell.execute_reply": "2025-07-21T18:45:17.513170Z",
     "shell.execute_reply.started": "2025-07-21T18:45:17.424536Z"
    },
    "trusted": true
   },
   "outputs": [],
   "source": [
    "model.save('/kaggle/working/unet_model.h5')"
   ]
  },
  {
   "cell_type": "code",
   "execution_count": 25,
   "metadata": {
    "execution": {
     "iopub.execute_input": "2025-07-21T18:46:35.993713Z",
     "iopub.status.busy": "2025-07-21T18:46:35.992723Z",
     "iopub.status.idle": "2025-07-21T18:46:35.999715Z",
     "shell.execute_reply": "2025-07-21T18:46:35.998840Z",
     "shell.execute_reply.started": "2025-07-21T18:46:35.993683Z"
    },
    "trusted": true
   },
   "outputs": [],
   "source": [
    "import cv2\n",
    "import os\n",
    "import numpy as np\n",
    "from tensorflow.keras.preprocessing.image import load_img, img_to_array\n",
    "\n",
    "#  use U-Net to predict the segmentation mask for each input image.\n",
    "def segment_image(unet_model, image):\n",
    "    image = image / 255.0\n",
    "    if len(image.shape) == 2:\n",
    "        image = np.expand_dims(image, axis=-1)\n",
    "    image = np.expand_dims(image, axis=0)\n",
    "    mask = unet_model.predict(image, verbose=0)[0]\n",
    "    return (mask > 0.5).astype(np.uint8)[..., 0]\n",
    "\n",
    "# auto-crop the lesion or highlight the important area\n",
    "def extract_roi_from_mask(image, mask):\n",
    "    contours, _ = cv2.findContours(mask, cv2.RETR_EXTERNAL, cv2.CHAIN_APPROX_SIMPLE)\n",
    "    if not contours:\n",
    "        return cv2.resize(image, (64, 64))\n",
    "    x, y, w, h = cv2.boundingRect(max(contours, key=cv2.contourArea))\n",
    "    roi = image[y:y+h, x:x+w]\n",
    "    return cv2.resize(roi, (64, 64))"
   ]
  },
  {
   "cell_type": "code",
   "execution_count": 26,
   "metadata": {
    "execution": {
     "iopub.execute_input": "2025-07-21T18:46:38.672377Z",
     "iopub.status.busy": "2025-07-21T18:46:38.671673Z",
     "iopub.status.idle": "2025-07-21T18:46:38.678715Z",
     "shell.execute_reply": "2025-07-21T18:46:38.677797Z",
     "shell.execute_reply.started": "2025-07-21T18:46:38.672353Z"
    },
    "trusted": true
   },
   "outputs": [],
   "source": [
    "import os\n",
    "import cv2\n",
    "import numpy as np\n",
    "from tqdm import tqdm\n",
    "\n",
    "def preprocess_dataset(unet_model, base_dir):\n",
    "    X = []\n",
    "    y = []\n",
    "\n",
    "    for label, folder in enumerate([\"Non Cancerous\", \"Cancerous\"]):\n",
    "        class_dir = os.path.join(base_dir, folder)\n",
    "\n",
    "        for subfolder in os.listdir(class_dir):\n",
    "            subfolder_path = os.path.join(class_dir, subfolder)\n",
    "            if not os.path.isdir(subfolder_path):\n",
    "                continue\n",
    "\n",
    "            for fname in tqdm(os.listdir(subfolder_path), desc=f\"{folder}/{subfolder}\"):\n",
    "                fpath = os.path.join(subfolder_path, fname)\n",
    "\n",
    "                try:\n",
    "                    img = cv2.imread(fpath, cv2.IMREAD_GRAYSCALE)\n",
    "                    if img is None:\n",
    "                        raise ValueError(\"Failed to load image.\")\n",
    "\n",
    "                    img = cv2.resize(img, (64, 64))\n",
    "\n",
    "                    # Segment the lesion using U-Net\n",
    "                    mask = segment_image(model, img)\n",
    "\n",
    "                    # Extract ROI from segmented mask\n",
    "                    roi = extract_roi_from_mask(img, mask)\n",
    "\n",
    "                    X.append(roi)\n",
    "                    y.append(label)\n",
    "\n",
    "                except Exception as e:\n",
    "                    print(f\"Skipped {fpath}: {e}\")\n",
    "\n",
    "    X = np.array(X).reshape(-1, 64, 64, 1) / 255.0\n",
    "    y = np.array(y)\n",
    "\n",
    "    return X, y\n"
   ]
  },
  {
   "cell_type": "code",
   "execution_count": 27,
   "metadata": {
    "execution": {
     "iopub.execute_input": "2025-07-21T18:46:47.178554Z",
     "iopub.status.busy": "2025-07-21T18:46:47.178239Z",
     "iopub.status.idle": "2025-07-21T19:49:33.912363Z",
     "shell.execute_reply": "2025-07-21T19:49:33.911751Z",
     "shell.execute_reply.started": "2025-07-21T18:46:47.178531Z"
    },
    "trusted": true
   },
   "outputs": [
    {
     "name": "stderr",
     "output_type": "stream",
     "text": [
      "Non Cancerous/Benign keratosis-like lesions: 100%|██████████| 1653/1653 [02:11<00:00, 12.59it/s]\n",
      "Non Cancerous/Benign: 100%|██████████| 8742/8742 [11:02<00:00, 13.20it/s]\n",
      "Non Cancerous/Melanocytic nevi: 100%|██████████| 8118/8118 [11:01<00:00, 12.27it/s]\n",
      "Non Cancerous/Dermatofibroma: 100%|██████████| 151/151 [00:12<00:00, 12.31it/s]\n",
      "Cancerous/Melanoma: 100%|██████████| 2863/2863 [03:58<00:00, 12.01it/s]\n",
      "Cancerous/Squamous cell carcinoma: 100%|██████████| 396/396 [00:31<00:00, 12.48it/s]\n",
      "Cancerous/Basal cell carcinoma: 100%|██████████| 2093/2093 [02:57<00:00, 11.79it/s]\n",
      "Cancerous/malignant: 100%|██████████| 8950/8950 [11:36<00:00, 12.85it/s]\n",
      "Non Cancerous/Benign keratosis-like lesions: 100%|██████████| 709/709 [01:00<00:00, 11.70it/s]\n",
      "Non Cancerous/Benign: 100%|██████████| 3747/3747 [04:58<00:00, 12.57it/s]\n",
      "Non Cancerous/Melanocytic nevi: 100%|██████████| 3480/3480 [04:52<00:00, 11.89it/s]\n",
      "Non Cancerous/Dermatofibroma: 100%|██████████| 65/65 [00:05<00:00, 12.07it/s]\n",
      "Cancerous/Melanoma: 100%|██████████| 1227/1227 [01:42<00:00, 11.92it/s]\n",
      "Cancerous/Squamous cell carcinoma: 100%|██████████| 170/170 [00:14<00:00, 11.39it/s]\n",
      "Cancerous/Basal cell carcinoma: 100%|██████████| 898/898 [01:19<00:00, 11.33it/s]\n",
      "Cancerous/malignant: 100%|██████████| 3836/3836 [05:00<00:00, 12.75it/s]\n"
     ]
    }
   ],
   "source": [
    "train_dir = \"/kaggle/input/skin-cancer-images/Train/Train\"\n",
    "val_dir = \"/kaggle/input/skin-cancer-images/Val/Val\"\n",
    "\n",
    "X_train, y_train = preprocess_dataset(unet_model, train_dir)\n",
    "X_val, y_val = preprocess_dataset(unet_model, val_dir)"
   ]
  },
  {
   "cell_type": "code",
   "execution_count": 28,
   "metadata": {
    "execution": {
     "iopub.execute_input": "2025-07-21T19:49:33.914873Z",
     "iopub.status.busy": "2025-07-21T19:49:33.914641Z",
     "iopub.status.idle": "2025-07-21T19:49:33.919148Z",
     "shell.execute_reply": "2025-07-21T19:49:33.918344Z",
     "shell.execute_reply.started": "2025-07-21T19:49:33.914855Z"
    },
    "trusted": true
   },
   "outputs": [
    {
     "name": "stdout",
     "output_type": "stream",
     "text": [
      "Train: (32966, 64, 64, 1) (32966,)\n",
      "Val: (14132, 64, 64, 1) (14132,)\n"
     ]
    }
   ],
   "source": [
    "print(\"Train:\", X_train.shape, y_train.shape)\n",
    "print(\"Val:\", X_val.shape, y_val.shape)"
   ]
  },
  {
   "cell_type": "code",
   "execution_count": 29,
   "metadata": {
    "execution": {
     "iopub.execute_input": "2025-07-21T19:49:33.920166Z",
     "iopub.status.busy": "2025-07-21T19:49:33.919951Z",
     "iopub.status.idle": "2025-07-21T19:49:42.854114Z",
     "shell.execute_reply": "2025-07-21T19:49:42.853342Z",
     "shell.execute_reply.started": "2025-07-21T19:49:33.920142Z"
    },
    "trusted": true
   },
   "outputs": [],
   "source": [
    "import os\n",
    "import cv2\n",
    "\n",
    "def save_images(images, labels, save_dir):\n",
    "    os.makedirs(save_dir, exist_ok=True)\n",
    "    for i, (img, label) in enumerate(zip(images, labels)):\n",
    "        label_folder = \"Cancerous\" if label == 1 else \"Non_Cancerous\"\n",
    "        folder_path = os.path.join(save_dir, label_folder)\n",
    "        os.makedirs(folder_path, exist_ok=True)\n",
    "        \n",
    "        # Convert from float to uint8\n",
    "        img_uint8 = (img.squeeze() * 255).astype('uint8')\n",
    "        save_path = os.path.join(folder_path, f\"image_{i}.png\")\n",
    "        cv2.imwrite(save_path, img_uint8)\n",
    "\n",
    "# Save train and val images\n",
    "save_images(X_train, y_train, \"/kaggle/working/processed_train\")\n",
    "save_images(X_val, y_val, \"/kaggle/working/processed_val\")"
   ]
  },
  {
   "cell_type": "code",
   "execution_count": null,
   "metadata": {},
   "outputs": [],
   "source": [
    "import shutil\n",
    "\n",
    "# Zip the processed_train folder\n",
    "shutil.make_archive(\"/kaggle/working/processed_train\", 'zip', \"/kaggle/working/processed_train\")\n",
    "\n",
    "# Zip the processed_val folder\n",
    "shutil.make_archive(\"/kaggle/working/processed_val\", 'zip', \"/kaggle/working/processed_val\")\n"
   ]
  }
 ],
 "metadata": {
  "kaggle": {
   "accelerator": "nvidiaTeslaT4",
   "dataSources": [
    {
     "datasetId": 7911025,
     "sourceId": 12531878,
     "sourceType": "datasetVersion"
    }
   ],
   "dockerImageVersionId": 31090,
   "isGpuEnabled": true,
   "isInternetEnabled": true,
   "language": "python",
   "sourceType": "notebook"
  },
  "kernelspec": {
   "display_name": "Python 3",
   "language": "python",
   "name": "python3"
  },
  "language_info": {
   "codemirror_mode": {
    "name": "ipython",
    "version": 3
   },
   "file_extension": ".py",
   "mimetype": "text/x-python",
   "name": "python",
   "nbconvert_exporter": "python",
   "pygments_lexer": "ipython3",
   "version": "3.11.13"
  }
 },
 "nbformat": 4,
 "nbformat_minor": 4
}
